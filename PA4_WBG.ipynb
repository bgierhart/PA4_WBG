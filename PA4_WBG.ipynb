{
 "cells": [
  {
   "cell_type": "markdown",
   "id": "0462ad73-bf9c-4357-8fe7-b1131cd7d9d7",
   "metadata": {},
   "source": [
    "### PA4_WBG\n",
    "---\n",
    "**Author:** Ben Gierhart  \n",
    "**Version:** 1.0  \n",
    "**Semester:** Spring 2024 \n",
    "\n",
    "This *notebook* contains my solution(s) to **PA4_WBG**"
   ]
  },
  {
   "cell_type": "markdown",
   "id": "54d2efa6-d4cd-4ac8-bac8-54a2143bf9c5",
   "metadata": {},
   "source": [
    "### Problem 1 — Swapping List Elements"
   ]
  },
  {
   "cell_type": "code",
   "execution_count": 5,
   "id": "8eecbe69-1241-488d-85a4-7a1f89e93a47",
   "metadata": {},
   "outputs": [],
   "source": [
    "import math\n",
    "import random"
   ]
  },
  {
   "cell_type": "code",
   "execution_count": 6,
   "id": "2f20e1bf-d881-4eb3-88d4-27e1c9be176e",
   "metadata": {},
   "outputs": [],
   "source": [
    "def swap_first_last(list1):\n",
    "    list2 = list1.copy()\n",
    "    list2[0],list2[-1] = list1[-1],list1[0]\n",
    "    return list2"
   ]
  },
  {
   "cell_type": "code",
   "execution_count": 7,
   "id": "208836b1-ba69-4390-86b1-98ea39c6229c",
   "metadata": {},
   "outputs": [
    {
     "name": "stdout",
     "output_type": "stream",
     "text": [
      "[97, 80, 76, 15, 86, 72, 85, 72, 43, 77]\n"
     ]
    },
    {
     "data": {
      "text/plain": [
       "[77, 80, 76, 15, 86, 72, 85, 72, 43, 97]"
      ]
     },
     "execution_count": 7,
     "metadata": {},
     "output_type": "execute_result"
    }
   ],
   "source": [
    "list1 = []\n",
    "for i in range(10):\n",
    "        list1.append(random.randint(0,100))\n",
    "print(list1)\n",
    "swap_first_last(list1)"
   ]
  },
  {
   "cell_type": "markdown",
   "id": "38ac6c6f-39fc-42f4-9842-ad945deccdc9",
   "metadata": {},
   "source": [
    "### Problem 2 — Encoding Data"
   ]
  },
  {
   "cell_type": "code",
   "execution_count": 8,
   "id": "72362b9c-dc6b-45bb-ab75-8ac90f99234e",
   "metadata": {},
   "outputs": [],
   "source": [
    "def encode(nonencoded_list):\n",
    "    encoded_list = []\n",
    "    for n in nonencoded_list:\n",
    "        encocoded_list = []\n",
    "        if n%2==0:\n",
    "            encoded_list.append(int(1))\n",
    "        else:\n",
    "            encoded_list.append(int(-1))\n",
    "    return encoded_list"
   ]
  },
  {
   "cell_type": "code",
   "execution_count": 9,
   "id": "74d07b75-c32c-4e3b-a528-f0b4f60f4f8e",
   "metadata": {},
   "outputs": [
    {
     "name": "stdout",
     "output_type": "stream",
     "text": [
      "[67, 83, 67, 47, 10, 71, 72, 52, 31, 36]\n"
     ]
    },
    {
     "data": {
      "text/plain": [
       "[-1, -1, -1, -1, 1, -1, 1, 1, -1, 1]"
      ]
     },
     "execution_count": 9,
     "metadata": {},
     "output_type": "execute_result"
    }
   ],
   "source": [
    "nonencoded_list = []\n",
    "for i in range(10):\n",
    "    nonencoded_list.append(random.randint(0,100))\n",
    "print(nonencoded_list)\n",
    "\n",
    "encode(nonencoded_list)"
   ]
  },
  {
   "cell_type": "markdown",
   "id": "c33e282d-20fc-405c-8a90-0e2dc8120071",
   "metadata": {},
   "source": [
    "### Problem 3 — Rotating Tuples"
   ]
  },
  {
   "cell_type": "code",
   "execution_count": 10,
   "id": "96afe83a-d5c1-42ef-abb0-e00c5e4ceb4d",
   "metadata": {},
   "outputs": [],
   "source": [
    "def rotate(pokemon_tuple):\n",
    "    a, b, c = pokemon_tuple\n",
    "    return c, a, b"
   ]
  },
  {
   "cell_type": "code",
   "execution_count": 11,
   "id": "3f223075-4d45-46a3-8578-50ec739a3e6e",
   "metadata": {},
   "outputs": [
    {
     "data": {
      "text/plain": [
       "('Generation I', 'Bulbasaur', '0001')"
      ]
     },
     "execution_count": 11,
     "metadata": {},
     "output_type": "execute_result"
    }
   ],
   "source": [
    "pokemon_tuple = (\"Bulbasaur\", \"0001\", \"Generation I\")\n",
    "rotate(pokemon_tuple)"
   ]
  },
  {
   "cell_type": "markdown",
   "id": "b7102f76-d21d-4574-a6c6-56302bf9e596",
   "metadata": {},
   "source": [
    "### Problem 4 — Creating a List of Tuples"
   ]
  },
  {
   "cell_type": "code",
   "execution_count": 12,
   "id": "75743d41-993c-4609-94b6-48b76e8b3434",
   "metadata": {},
   "outputs": [],
   "source": [
    "firstnames = [\"William\", \"Theodore\", \"William\", \"Woodrow\", \"Warren\", \"Calvin\", \"Herbert\", \"Franklin\", \"Harry\", \"Dwight\", \"John\", \"Lyndon\", \"Richard\", \"Gerald\", \"Jimmy\", \"Ronald\", \"George\", \"William\"]\n",
    "lastnames = [\"McKinley\", \"Roosevelt\", \"Taft\", \"Wilson\", \"Harding\", \"Coolidge\", \"Hoover\", \"Roosevelt\", \"Truman\", \"Eisenhower\", \"Kennedy\", \"Johnson\", \"Nixon\", \"Ford\", \"Carter\", \"Reagan\", \"Bush\", \"Clinton\"]\n",
    "preznumbers = []\n",
    "for i in range(25,43):\n",
    "    preznumbers.append(i)\n",
    "def presidential_zip():        \n",
    "    presidents = []\n",
    "    for firstname, lastname, preznumber in zip(firstnames, lastnames, preznumbers):\n",
    "        presidents.append((firstname, lastname, preznumber))\n",
    "    return presidents"
   ]
  },
  {
   "cell_type": "code",
   "execution_count": 13,
   "id": "40f51c35-9c7f-4d0a-81c8-93180a014b6d",
   "metadata": {},
   "outputs": [
    {
     "data": {
      "text/plain": [
       "[('William', 'McKinley', 25),\n",
       " ('Theodore', 'Roosevelt', 26),\n",
       " ('William', 'Taft', 27),\n",
       " ('Woodrow', 'Wilson', 28),\n",
       " ('Warren', 'Harding', 29),\n",
       " ('Calvin', 'Coolidge', 30),\n",
       " ('Herbert', 'Hoover', 31),\n",
       " ('Franklin', 'Roosevelt', 32),\n",
       " ('Harry', 'Truman', 33),\n",
       " ('Dwight', 'Eisenhower', 34),\n",
       " ('John', 'Kennedy', 35),\n",
       " ('Lyndon', 'Johnson', 36),\n",
       " ('Richard', 'Nixon', 37),\n",
       " ('Gerald', 'Ford', 38),\n",
       " ('Jimmy', 'Carter', 39),\n",
       " ('Ronald', 'Reagan', 40),\n",
       " ('George', 'Bush', 41),\n",
       " ('William', 'Clinton', 42)]"
      ]
     },
     "execution_count": 13,
     "metadata": {},
     "output_type": "execute_result"
    }
   ],
   "source": [
    "presidential_zip()"
   ]
  },
  {
   "cell_type": "markdown",
   "id": "3309314a-c1c2-4c40-a456-f335e2ba196a",
   "metadata": {},
   "source": [
    "### Problem 5 — Finding Perfect Numbers"
   ]
  },
  {
   "cell_type": "code",
   "execution_count": 14,
   "id": "6c41ede7-4cfa-4097-8ff3-9025a8f53eea",
   "metadata": {},
   "outputs": [
    {
     "data": {
      "text/plain": [
       "[6, 28]"
      ]
     },
     "execution_count": 14,
     "metadata": {},
     "output_type": "execute_result"
    }
   ],
   "source": [
    "numbers = []\n",
    "for i in range(1,101):\n",
    "    numbers.append(i)\n",
    "def perfect_number(n):\n",
    "    sum = 0\n",
    "    for divisor in range(1,n):\n",
    "        if n%divisor==0:\n",
    "            sum += divisor\n",
    "    if sum==n:\n",
    "        return True\n",
    "    else:\n",
    "        return False\n",
    "list(filter(perfect_number, numbers))"
   ]
  },
  {
   "cell_type": "code",
   "execution_count": null,
   "id": "9479d283-10a7-43e1-addc-8a91e8e965c9",
   "metadata": {},
   "outputs": [],
   "source": []
  }
 ],
 "metadata": {
  "kernelspec": {
   "display_name": "Python 3 (ipykernel)",
   "language": "python",
   "name": "python3"
  },
  "language_info": {
   "codemirror_mode": {
    "name": "ipython",
    "version": 3
   },
   "file_extension": ".py",
   "mimetype": "text/x-python",
   "name": "python",
   "nbconvert_exporter": "python",
   "pygments_lexer": "ipython3",
   "version": "3.11.7"
  }
 },
 "nbformat": 4,
 "nbformat_minor": 5
}
